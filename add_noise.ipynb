{
  "nbformat": 4,
  "nbformat_minor": 0,
  "metadata": {
    "colab": {
      "provenance": []
    },
    "kernelspec": {
      "name": "python3",
      "display_name": "Python 3"
    },
    "language_info": {
      "name": "python"
    }
  },
  "cells": [
    {
      "cell_type": "code",
      "source": [
        "!pip install ddpm\n",
        "!pip install python==1.0.0"
      ],
      "metadata": {
        "colab": {
          "base_uri": "https://localhost:8080/"
        },
        "id": "HUZbktfdz_pa",
        "outputId": "34f6a88a-512f-4d84-d586-1756550bab25"
      },
      "execution_count": 5,
      "outputs": [
        {
          "output_type": "stream",
          "name": "stdout",
          "text": [
            "\u001b[31mERROR: Ignored the following versions that require a different python version: 1.0.0 Requires-Python <3.10,>=3.7\u001b[0m\u001b[31m\n",
            "\u001b[0m\u001b[31mERROR: Could not find a version that satisfies the requirement ddpm (from versions: none)\u001b[0m\u001b[31m\n",
            "\u001b[0m\u001b[31mERROR: No matching distribution found for ddpm\u001b[0m\u001b[31m\n",
            "\u001b[0m\u001b[31mERROR: Could not find a version that satisfies the requirement python==1.0.0 (from versions: none)\u001b[0m\u001b[31m\n",
            "\u001b[0m\u001b[31mERROR: No matching distribution found for python==1.0.0\u001b[0m\u001b[31m\n",
            "\u001b[0m"
          ]
        }
      ]
    },
    {
      "cell_type": "code",
      "execution_count": 1,
      "metadata": {
        "colab": {
          "base_uri": "https://localhost:8080/",
          "height": 383
        },
        "id": "iVwslFvkzlif",
        "outputId": "fbf939c3-5d24-4a48-e0d4-6e53618a6d29"
      },
      "outputs": [
        {
          "output_type": "error",
          "ename": "ModuleNotFoundError",
          "evalue": "No module named 'ddpm'",
          "traceback": [
            "\u001b[0;31m---------------------------------------------------------------------------\u001b[0m",
            "\u001b[0;31mModuleNotFoundError\u001b[0m                       Traceback (most recent call last)",
            "\u001b[0;32m<ipython-input-1-11cbe59c1a68>\u001b[0m in \u001b[0;36m<cell line: 1>\u001b[0;34m()\u001b[0m\n\u001b[0;32m----> 1\u001b[0;31m \u001b[0;32mfrom\u001b[0m \u001b[0mddpm\u001b[0m \u001b[0;32mimport\u001b[0m \u001b[0mDDPMSampler\u001b[0m\u001b[0;34m\u001b[0m\u001b[0;34m\u001b[0m\u001b[0m\n\u001b[0m\u001b[1;32m      2\u001b[0m \u001b[0;34m\u001b[0m\u001b[0m\n\u001b[1;32m      3\u001b[0m \u001b[0;32mfrom\u001b[0m \u001b[0mPIL\u001b[0m \u001b[0;32mimport\u001b[0m \u001b[0mImage\u001b[0m\u001b[0;34m\u001b[0m\u001b[0;34m\u001b[0m\u001b[0m\n\u001b[1;32m      4\u001b[0m \u001b[0;32mimport\u001b[0m \u001b[0mtorch\u001b[0m\u001b[0;34m\u001b[0m\u001b[0;34m\u001b[0m\u001b[0m\n\u001b[1;32m      5\u001b[0m \u001b[0;32mimport\u001b[0m \u001b[0mnumpy\u001b[0m \u001b[0;32mas\u001b[0m \u001b[0mnp\u001b[0m\u001b[0;34m\u001b[0m\u001b[0;34m\u001b[0m\u001b[0m\n",
            "\u001b[0;31mModuleNotFoundError\u001b[0m: No module named 'ddpm'",
            "",
            "\u001b[0;31m---------------------------------------------------------------------------\u001b[0;32m\nNOTE: If your import is failing due to a missing package, you can\nmanually install dependencies using either !pip or !apt.\n\nTo view examples of installing some common dependencies, click the\n\"Open Examples\" button below.\n\u001b[0;31m---------------------------------------------------------------------------\u001b[0m\n"
          ],
          "errorDetails": {
            "actions": [
              {
                "action": "open_url",
                "actionText": "Open Examples",
                "url": "/notebooks/snippets/importing_libraries.ipynb"
              }
            ]
          }
        }
      ],
      "source": [
        "\n",
        "from ddpm import DDPMSampler\n",
        "\n",
        "from PIL import Image\n",
        "import torch\n",
        "import numpy as np\n",
        "import math\n",
        "\n",
        "generator = torch.Generator()\n",
        "generator.manual_seed(0)\n",
        "\n",
        "ddpm_sampler = DDPMSampler(generator)\n",
        "\n",
        "# How many noise levels to generate\n",
        "noise_levels = [0, 10, 50, 75, 100, 250, 500, 750]\n",
        "\n",
        "img = Image.open(\"/content/fav.jpg\")\n",
        "img_tensor = torch.tensor(np.array(img))\n",
        "img_tensor = ((img_tensor / 255.0) * 2.0) - 1.0\n",
        "# Create a batch by repeating the same image many times\n",
        "batch = img_tensor.repeat(len(noise_levels), 1, 1, 1)\n",
        "\n",
        "ts = torch.tensor(noise_levels, dtype=torch.int, device=batch.device)\n",
        "noise_imgs = []\n",
        "epsilons = torch.randn(batch.shape, device=batch.device)\n",
        "# Generate a noisifed version of the image for each noise level\n",
        "for i in range(len(ts)):\n",
        "    a_hat = ddpm_sampler.alphas_cumprod[ts[i]]\n",
        "    noise_imgs.append(\n",
        "        (math.sqrt(a_hat) * batch[i]) + (math.sqrt(1 - a_hat) * epsilons[i])\n",
        "    )\n",
        "\n",
        "\n",
        "noise_imgs = torch.stack(noise_imgs, dim=0)\n",
        "noise_imgs = (noise_imgs.clamp(-1, 1) + 1) / 2\n",
        "noise_imgs = (noise_imgs * 255).type(torch.uint8)\n",
        "\n",
        "# Convert back to image and display\n",
        "display_img = Image.fromarray(noise_imgs[7].squeeze(0).numpy(), 'RGB')\n",
        "display_img\n"
      ]
    }
  ]
}