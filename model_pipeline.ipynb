{
  "nbformat": 4,
  "nbformat_minor": 0,
  "metadata": {
    "colab": {
      "provenance": []
    },
    "kernelspec": {
      "name": "python3",
      "display_name": "Python 3"
    },
    "language_info": {
      "name": "python"
    }
  },
  "cells": [
    {
      "cell_type": "code",
      "execution_count": 1,
      "metadata": {
        "colab": {
          "base_uri": "https://localhost:8080/",
          "height": 383
        },
        "id": "ZLaie17lZVQV",
        "outputId": "4442eb88-be46-4d1f-b7ef-8c8809afbf56"
      },
      "outputs": [
        {
          "output_type": "error",
          "ename": "ModuleNotFoundError",
          "evalue": "No module named 'clip'",
          "traceback": [
            "\u001b[0;31m---------------------------------------------------------------------------\u001b[0m",
            "\u001b[0;31mModuleNotFoundError\u001b[0m                       Traceback (most recent call last)",
            "\u001b[0;32m<ipython-input-1-79d48282405a>\u001b[0m in \u001b[0;36m<cell line: 1>\u001b[0;34m()\u001b[0m\n\u001b[0;32m----> 1\u001b[0;31m \u001b[0;32mfrom\u001b[0m \u001b[0mclip\u001b[0m \u001b[0;32mimport\u001b[0m \u001b[0mCLIP\u001b[0m\u001b[0;34m\u001b[0m\u001b[0;34m\u001b[0m\u001b[0m\n\u001b[0m\u001b[1;32m      2\u001b[0m \u001b[0;32mfrom\u001b[0m \u001b[0mencoder\u001b[0m \u001b[0;32mimport\u001b[0m \u001b[0mVAE_Encoder\u001b[0m\u001b[0;34m\u001b[0m\u001b[0;34m\u001b[0m\u001b[0m\n\u001b[1;32m      3\u001b[0m \u001b[0;32mfrom\u001b[0m \u001b[0mdecoder\u001b[0m \u001b[0;32mimport\u001b[0m \u001b[0mVAE_Decoder\u001b[0m\u001b[0;34m\u001b[0m\u001b[0;34m\u001b[0m\u001b[0m\n\u001b[1;32m      4\u001b[0m \u001b[0;32mfrom\u001b[0m \u001b[0mdiffusion\u001b[0m \u001b[0;32mimport\u001b[0m \u001b[0mDiffusion\u001b[0m\u001b[0;34m\u001b[0m\u001b[0;34m\u001b[0m\u001b[0m\n\u001b[1;32m      5\u001b[0m \u001b[0;34m\u001b[0m\u001b[0m\n",
            "\u001b[0;31mModuleNotFoundError\u001b[0m: No module named 'clip'",
            "",
            "\u001b[0;31m---------------------------------------------------------------------------\u001b[0;32m\nNOTE: If your import is failing due to a missing package, you can\nmanually install dependencies using either !pip or !apt.\n\nTo view examples of installing some common dependencies, click the\n\"Open Examples\" button below.\n\u001b[0;31m---------------------------------------------------------------------------\u001b[0m\n"
          ],
          "errorDetails": {
            "actions": [
              {
                "action": "open_url",
                "actionText": "Open Examples",
                "url": "/notebooks/snippets/importing_libraries.ipynb"
              }
            ]
          }
        }
      ],
      "source": [
        "from clip import CLIP\n",
        "from encoder import VAE_Encoder\n",
        "from decoder import VAE_Decoder\n",
        "from diffusion import Diffusion\n",
        "\n",
        "import model_converter\n",
        "def premodel_loader(ckpt_path, device):\n",
        "  state_dict =  model_converter.load_from_standard_weights(ckpt_path , model)\n",
        "  encoder =VAE_Encoder.to(device)\n",
        "  encoder.load_state_dict(state_dict[\"Encoder\"], strict=True)\n",
        "  decoder = VAE_Decoder.to(deivce)\n",
        "  deocder.load_state_dict(state_dict[\"Decoder\"], strict=True)\n",
        "  diffusion = diffusion.to(deivce)\n",
        "  diffusion.load_state_dict(state_dict[\"diffusion\"], strict=True)\n",
        "  clip = clip.to(device)\n",
        "  clip.load_state_dict(state_dict[\"clip\"], strict=True)\n",
        "  return {\n",
        "      \"encoder\" : encoder,\n",
        "      \"decoder\" : decoder,\n",
        "      \"diffusion\" : diffusion,\n",
        "      \"clip\": clip\n",
        "  }"
      ]
    }
  ]
}